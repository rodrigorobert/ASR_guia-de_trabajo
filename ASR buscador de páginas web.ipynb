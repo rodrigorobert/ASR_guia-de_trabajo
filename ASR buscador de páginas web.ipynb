{
 "cells": [
  {
   "cell_type": "code",
   "execution_count": 1,
   "metadata": {},
   "outputs": [],
   "source": [
    "import speech_recognition as sr\n",
    "import webbrowser as wb"
   ]
  },
  {
   "cell_type": "code",
   "execution_count": 4,
   "metadata": {},
   "outputs": [],
   "source": [
    "def fn_speech_recognition():\n",
    "    sr.Microphone(device_index = 0)\n",
    "    print(f\"MICs Found on this Computer: \\n {sr.Microphone.list_microphone_names()}\")\n",
    "    # Creating a recognition object\n",
    "    r = sr.Recognizer()\n",
    "    r.energy_threshold=4000\n",
    "    r.dynamic_energy_threshold = False\n",
    "\n",
    "    with sr.Microphone() as source:\n",
    "        print('Please Speak Loud and Clear:')\n",
    "        #reduce noise\n",
    "        r.adjust_for_ambient_noise(source)\n",
    "        #take voice input from the microphone\n",
    "        audio = r.listen(source)\n",
    "        try:\n",
    "            phrase = r.recognize_google(audio)\n",
    "            print(f\"Did you just say: {phrase} ?\")\n",
    "            url = \"https://www.google.com/search?q=\"\n",
    "            search_url  = url+phrase\n",
    "            wb.open(search_url)\n",
    "        except TimeoutException as msg:\n",
    "            print(msg)\n",
    "        except WaitTimeoutError:\n",
    "            print(\"listening timed out while waiting for phrase to start\")\n",
    "            quit()\n",
    "        # speech is unintelligible\n",
    "        except LookupError:\n",
    "            print(\"Could not understand what you've requested.\")\n",
    "        else:\n",
    "            print(\"Your results will appear in the default browser. Good bye for now...\")"
   ]
  },
  {
   "cell_type": "code",
   "execution_count": 9,
   "metadata": {},
   "outputs": [
    {
     "name": "stdout",
     "output_type": "stream",
     "text": [
      "MICs Found on this Computer: \n",
      " ['Microsoft Sound Mapper - Input', 'Micrófono (Realtek High Definit', 'Microsoft Sound Mapper - Output', 'Altavoces (Realtek High Definit', 'Controlador primario de captura de sonido', 'Micrófono (Realtek High Definition Audio)', 'Controlador primario de sonido', 'Altavoces (Realtek High Definition Audio)', 'Altavoces (Realtek High Definition Audio)', 'Micrófono (Realtek High Definition Audio)', 'Speakers (Realtek HD Audio output)', 'Mezcla estéreo (Realtek HD Audio Stereo input)', 'Micrófono (Realtek HD Audio Mic input)']\n",
      "Please Speak Loud and Clear:\n",
      "Did you just say: what are you talk ?\n",
      "Your results will appear in the default browser. Good bye for now...\n"
     ]
    }
   ],
   "source": [
    "fn_speech_recognition()"
   ]
  },
  {
   "cell_type": "code",
   "execution_count": null,
   "metadata": {},
   "outputs": [],
   "source": []
  }
 ],
 "metadata": {
  "interpreter": {
   "hash": "e5e3328464c13cdfc43af6814b18c8a098767984f91f2620b8e74cb46cefb2dc"
  },
  "kernelspec": {
   "display_name": "Python 3.10.2 64-bit",
   "language": "python",
   "name": "python3"
  },
  "language_info": {
   "codemirror_mode": {
    "name": "ipython",
    "version": 3
   },
   "file_extension": ".py",
   "mimetype": "text/x-python",
   "name": "python",
   "nbconvert_exporter": "python",
   "pygments_lexer": "ipython3",
   "version": "3.10.2"
  },
  "orig_nbformat": 4
 },
 "nbformat": 4,
 "nbformat_minor": 2
}
